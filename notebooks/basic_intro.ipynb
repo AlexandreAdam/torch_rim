{
 "cells": [
  {
   "cell_type": "code",
   "execution_count": 3,
   "id": "0e8c0621-afeb-4669-a9ed-645b3ca4c986",
   "metadata": {
    "tags": []
   },
   "outputs": [
    {
     "ename": "SyntaxError",
     "evalue": "invalid syntax (hourglass.py, line 57)",
     "output_type": "error",
     "traceback": [
      "Traceback \u001b[0;36m(most recent call last)\u001b[0m:\n",
      "\u001b[0m  File \u001b[1;32m~/anaconda3/envs/caustic/lib/python3.9/site-packages/IPython/core/interactiveshell.py:3508\u001b[0m in \u001b[1;35mrun_code\u001b[0m\n    exec(code_obj, self.user_global_ns, self.user_ns)\u001b[0m\n",
      "\u001b[0m  Cell \u001b[1;32mIn[3], line 2\u001b[0m\n    from rim import RIM, Hourglass\u001b[0m\n",
      "\u001b[0m  File \u001b[1;32m~/Desktop/Projects/torch_rim/rim/__init__.py:1\u001b[0m\n    from .architectures import *\u001b[0m\n",
      "\u001b[0;36m  File \u001b[0;32m~/Desktop/Projects/torch_rim/rim/architectures/__init__.py:1\u001b[0;36m\n\u001b[0;31m    from .hourglass import Hourglass\u001b[0;36m\n",
      "\u001b[0;36m  File \u001b[0;32m~/Desktop/Projects/torch_rim/rim/architectures/hourglass.py:57\u001b[0;36m\u001b[0m\n\u001b[0;31m    \"nf\": nf,\u001b[0m\n\u001b[0m        ^\u001b[0m\n\u001b[0;31mSyntaxError\u001b[0m\u001b[0;31m:\u001b[0m invalid syntax\n"
     ]
    }
   ],
   "source": [
    "import torch\n",
    "from rim import RIM, Hourglass"
   ]
  },
  {
   "cell_type": "code",
   "execution_count": null,
   "id": "9438bfa6-882f-4b1b-a7be-26e4b88376c2",
   "metadata": {},
   "outputs": [],
   "source": []
  }
 ],
 "metadata": {
  "kernelspec": {
   "display_name": "caustic",
   "language": "python",
   "name": "caustic"
  },
  "language_info": {
   "codemirror_mode": {
    "name": "ipython",
    "version": 3
   },
   "file_extension": ".py",
   "mimetype": "text/x-python",
   "name": "python",
   "nbconvert_exporter": "python",
   "pygments_lexer": "ipython3",
   "version": "3.9.16"
  }
 },
 "nbformat": 4,
 "nbformat_minor": 5
}
