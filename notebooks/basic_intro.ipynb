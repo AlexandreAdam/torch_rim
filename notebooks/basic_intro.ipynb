{
 "cells": [
  {
   "cell_type": "code",
   "execution_count": 1,
   "id": "f190edea-ac41-46a1-8cd2-42fb665777f5",
   "metadata": {
    "tags": []
   },
   "outputs": [],
   "source": [
    "%load_ext autoreload\n",
    "%autoreload 2"
   ]
  },
  {
   "cell_type": "code",
   "execution_count": 2,
   "id": "0e8c0621-afeb-4669-a9ed-645b3ca4c986",
   "metadata": {
    "tags": []
   },
   "outputs": [],
   "source": [
    "import torch\n",
    "from rim import RIM, Hourglass\n",
    "import torch.distributions as tfd\n",
    "from torch.func import vmap\n",
    "from tqdm import tqdm\n",
    "\n",
    "matmul = vmap(torch.matmul)"
   ]
  },
  {
   "cell_type": "code",
   "execution_count": 3,
   "id": "9438bfa6-882f-4b1b-a7be-26e4b88376c2",
   "metadata": {
    "tags": []
   },
   "outputs": [],
   "source": [
    "m = 16 # model space\n",
    "n = 32 # observation space\n",
    "modes = 10 # modes of the prior chosen at random in the prior space\n",
    "mode_width = 0.5\n",
    "coords = torch.randn([modes, m])\n",
    "\n",
    "# Implementation of the zero temperature distributions\n",
    "def make_prior():\n",
    "    mean = coords\n",
    "    scale = mode_width\n",
    "    mixture = tfd.Categorical(torch.ones(modes), validate_args=False)\n",
    "    component = tfd.Independent(tfd.Normal(mean, scale, validate_args=False), 1) # Uniform diagonal MVN\n",
    "    return tfd.MixtureSameFamily(mixture, component, validate_args=False)\n",
    "\n",
    "def make_likelihood(sigma_n):\n",
    "    cov = torch.eye(n) * sigma_n**2\n",
    "    return tfd.MultivariateNormal(torch.zeros(n), covariance_matrix=cov, validate_args=False)\n",
    "\n",
    "def make_posterior(y, A, sigma_n):\n",
    "    Sigma_x = torch.eye(m) * mode_width**2\n",
    "    Sigma_y = torch.eye(n) * sigma_n**2\n",
    "    Sigma_x_given_y = (Sigma_x.inverse() + A.T @ Sigma_y.inverse() @ A).inverse()\n",
    "    mu_x_given_y = torch.stack([Sigma_x_given_y @ (coords[i] + A.T @ Sigma_y.inverse() @ y.view(-1)) for i in range(coords.shape[0])])\n",
    "    mean = mu_x_given_y\n",
    "    cov = Sigma_x_given_y\n",
    "    mixture = tfd.Categorical(q, validate_args=False)\n",
    "    component = tfd.MultivariateNormal(mean, covariance_matrix=cov, validate_args=False)\n",
    "    return tfd.MixtureSameFamily(mixture, component, validate_args=False)"
   ]
  },
  {
   "cell_type": "code",
   "execution_count": null,
   "id": "2459b3c1-4ef2-4d30-ac7a-3900047d2d01",
   "metadata": {
    "tags": []
   },
   "outputs": [
    {
     "name": "stderr",
     "output_type": "stream",
     "text": [
      "Epoch 46 | Cost: 2.1e+01 |:  92%|████████████████████████████████████████████████████████████████████████████████████████████████████████████████████████████████████████▏           | 46/50 [01:31<00:13,  3.29s/it]"
     ]
    }
   ],
   "source": [
    "sigma_max = 1\n",
    "sigma_min = 1e-2\n",
    "\n",
    "\n",
    "@vmap\n",
    "def score_fn(x, y, A, sigma_n): # make sure to respect this signature (x, y, *args)\n",
    "    y_pred = A @ x.squeeze() # remove channel dimension of x.\n",
    "    score = - (y - y_pred) @ (-A) / sigma_n**2\n",
    "    return score.unsqueeze(0) # give score back its channel dimensions\n",
    "\n",
    "prior = make_prior()\n",
    "\n",
    "# Make a dataset\n",
    "class Dataset(torch.utils.data.Dataset):\n",
    "    def __init__(self, size, ):\n",
    "        self.size = size\n",
    "    \n",
    "    def __len__(self):\n",
    "        return self.size\n",
    "    \n",
    "    def __getitem__(self, index):\n",
    "        x = prior.sample([])\n",
    "        A = torch.randn([n, m]) # forward model is random\n",
    "        sigma_n = torch.rand([]) * (sigma_max - sigma_min) + sigma_min # the noise level is also random\n",
    "        z = torch.randn([]) * sigma_n\n",
    "        y = A @ x + z\n",
    "        w = torch.ones_like(x)\n",
    "         # for dataset, it's the traditional ml signature (inputs, labels, *args)\n",
    "        return y, x.view(1, -1), A, sigma_n # add channel dimension to x\n",
    "\n",
    "dataset = Dataset(1000)\n",
    "model = Hourglass(channels=1, nf=32, ch_mult=(2, 2))\n",
    "rim = RIM([16], model, score_fn=score_fn)\n",
    "\n",
    "losses = rim.fit(dataset, epochs=50, batch_size=100, learning_rate=1e-3)\n",
    "plt.plot(losses)\n",
    "plt.ylabel(\"Loss\")\n",
    "plt.xlabel(\"Epoch\")"
   ]
  },
  {
   "cell_type": "code",
   "execution_count": null,
   "id": "b18d619b-c6ab-4f7c-82b2-97cdfdfef1b9",
   "metadata": {
    "tags": []
   },
   "outputs": [],
   "source": [
    "dataloader = torch.utils.data.DataLoader(dataset)\n",
    "y, x_true, A, sigma_n = next(iter(dataloader))\n",
    "with torch.no_grad():\n",
    "    x_pred = rim.predict(y, A, sigma_n)\n",
    "plt.plot(x_true.squeeze(), \"-k\", lw=3, label=\"Ground truth\")\n",
    "plt.plot(x_pred.squeeze(), \"--r\", lw=3, label=\"RIM\")\n",
    "plt.legend()\n",
    "plt.xlabel(\"Dimensions\")\n",
    "plt.ylabel(\"Value\")"
   ]
  },
  {
   "cell_type": "code",
   "execution_count": null,
   "id": "bfeff489-8e1d-4f08-b1e3-b25c6685c329",
   "metadata": {},
   "outputs": [],
   "source": []
  }
 ],
 "metadata": {
  "kernelspec": {
   "display_name": "caustic",
   "language": "python",
   "name": "caustic"
  },
  "language_info": {
   "codemirror_mode": {
    "name": "ipython",
    "version": 3
   },
   "file_extension": ".py",
   "mimetype": "text/x-python",
   "name": "python",
   "nbconvert_exporter": "python",
   "pygments_lexer": "ipython3",
   "version": "3.9.16"
  }
 },
 "nbformat": 4,
 "nbformat_minor": 5
}
